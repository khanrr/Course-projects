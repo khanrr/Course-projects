{
  "nbformat": 4,
  "nbformat_minor": 0,
  "metadata": {
    "colab": {
      "name": "DS397_Final_Project.ipynb",
      "provenance": [],
      "collapsed_sections": []
    },
    "kernelspec": {
      "name": "python3",
      "display_name": "Python 3"
    },
    "language_info": {
      "name": "python"
    }
  },
  "cells": [
    {
      "cell_type": "markdown",
      "source": [
        "# **DS 397 Final Project**\n",
        "\n",
        "\n"
      ],
      "metadata": {
        "id": "4I_iXs2ze_OA"
      }
    },
    {
      "cell_type": "markdown",
      "source": [
        "**Application Domain: Recommender Systems**\n",
        "\n",
        "For my project, the application domain that I will be looking at is the recommender system domain.\n",
        "\n"
      ],
      "metadata": {
        "id": "GCiQ1IclwyyW"
      }
    },
    {
      "cell_type": "markdown",
      "source": [
        "**Problem**\n",
        "\n",
        "The problem I will be addressing is whether or not there exists a bias of some sort in recommender system algorithms."
      ],
      "metadata": {
        "id": "RCHDmJYMxQgV"
      }
    },
    {
      "cell_type": "markdown",
      "source": [
        "**Problem Formulation**\n",
        "\n",
        "To solve the aforementioned problem, I have decided to use content-based recommender system to judge if there is a bias or not."
      ],
      "metadata": {
        "id": "R2MyDsB9Ru34"
      }
    },
    {
      "cell_type": "markdown",
      "source": [
        "**Algorithm**\n",
        "\n",
        "Below is the algorithm for a content-based recommender system that uses data from a dataset of popular movies."
      ],
      "metadata": {
        "id": "HSxLe-V_SKMM"
      }
    },
    {
      "cell_type": "markdown",
      "source": [
        "First, we need to mount the drive with the dataset in order to begin."
      ],
      "metadata": {
        "id": "G3s3w6Efyi9j"
      }
    },
    {
      "cell_type": "code",
      "source": [
        "from google.colab import drive\n",
        "drive.mount('/content/drive')"
      ],
      "metadata": {
        "id": "CdBmlUf-4Lc6",
        "colab": {
          "base_uri": "https://localhost:8080/"
        },
        "outputId": "320ad168-e88b-4d2e-be35-75a620b4bc92"
      },
      "execution_count": null,
      "outputs": [
        {
          "output_type": "stream",
          "name": "stdout",
          "text": [
            "Drive already mounted at /content/drive; to attempt to forcibly remount, call drive.mount(\"/content/drive\", force_remount=True).\n"
          ]
        }
      ]
    },
    {
      "cell_type": "markdown",
      "source": [
        "The drive is now mounted, and now we need to import several libraries needed for our recommender system."
      ],
      "metadata": {
        "id": "5-ltk-PDysiD"
      }
    },
    {
      "cell_type": "code",
      "source": [
        "import pandas as pd\n",
        "import sklearn\n",
        "from sklearn.feature_extraction.text import TfidfVectorizer\n",
        "from sklearn.metrics.pairwise import linear_kernel"
      ],
      "metadata": {
        "id": "avHuWvwfyruT"
      },
      "execution_count": null,
      "outputs": []
    },
    {
      "cell_type": "markdown",
      "source": [
        "The necessary libraries and tools have been imported\n",
        "\n"
      ],
      "metadata": {
        "id": "LaJv6h_Py8Xx"
      }
    },
    {
      "cell_type": "code",
      "source": [
        "mdata = pd.read_csv('/content/drive/MyDrive/Colab Notebooks/movies_metadata.csv', low_memory=False)\n",
        "tfidf = TfidfVectorizer(stop_words='english')\n",
        "mdata['overview'] = mdata['overview'].fillna('')\n",
        "tfidf_matrix = tfidf.fit_transform(mdata['overview'])\n",
        "cosine_sim = linear_kernel(tfidf_matrix, tfidf_matrix)\n",
        "indices = pd.Series(mdata.index, index=mdata['title']).drop_duplicates()"
      ],
      "metadata": {
        "id": "Gj96uB3NzSLm"
      },
      "execution_count": null,
      "outputs": []
    },
    {
      "cell_type": "markdown",
      "source": [
        "Using pandas, the movie data (from https://www.kaggle.com/datasets/rounakbanik/the-movies-dataset) csv file is read and prepared for creation of the recommender system. Variables for TFIDF and cosine similarity scores are also created.\n",
        "\n",
        "Note: Due to Google Colab's limited RAM, the cosine_sim variable cannot be created to create the necessary cosine similarity values for the next part."
      ],
      "metadata": {
        "id": "ZIy4J2PB82xT"
      }
    },
    {
      "cell_type": "code",
      "source": [
        "def get_recommendations(title, cosine_sim=cosine_sim):\n",
        "    idx = indices[title]\n",
        "    sim_scores = list(enumerate(cosine_sim[idx]))\n",
        "    sim_scores = sorted(sim_scores, key=lambda x: x[1], reverse=True)\n",
        "    sim_scores = sim_scores[1:11]\n",
        "    movie_indices = [i[0] for i in sim_scores]\n",
        "    return mdata['title'].iloc[movie_indices]"
      ],
      "metadata": {
        "id": "W_8LcdHh-yKG"
      },
      "execution_count": null,
      "outputs": []
    },
    {
      "cell_type": "markdown",
      "source": [
        "The function to get recommendations has been created and will be used to return a list of recommended movies."
      ],
      "metadata": {
        "id": "v7y4tsHQANyP"
      }
    },
    {
      "cell_type": "code",
      "source": [
        "get_recommendations('Braveheart')"
      ],
      "metadata": {
        "id": "6-WBLAM9A5BK"
      },
      "execution_count": null,
      "outputs": []
    },
    {
      "cell_type": "markdown",
      "source": [
        "Due to the problem in a previous step, the output cannot be retrieved. Running this line of code will output a list of movies that are similar to the movie \"Braveheart\"."
      ],
      "metadata": {
        "id": "mwKQRaOrJsf4"
      }
    },
    {
      "cell_type": "markdown",
      "source": [
        "**Conclusion**\n",
        "\n",
        "There is no bias in a recommender system as the algorithm mainly uses mathematical functions to produce an output. "
      ],
      "metadata": {
        "id": "zHXniwFGTTLK"
      }
    },
    {
      "cell_type": "markdown",
      "source": [
        "**Alternatives**\n",
        "\n",
        "Other alternatives include other types of recommender systems. One common alternative to a content-based system is a collaborative system. Collaborative systems can provide better individualized results due to their nature. However, they require more data than a content-based system to generate the results."
      ],
      "metadata": {
        "id": "sSGlEypTMFLC"
      }
    }
  ]
}